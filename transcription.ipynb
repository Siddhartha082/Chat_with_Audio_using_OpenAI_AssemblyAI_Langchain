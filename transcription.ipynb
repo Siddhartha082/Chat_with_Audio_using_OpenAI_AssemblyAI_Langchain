{
 "cells": [
  {
   "cell_type": "markdown",
   "metadata": {},
   "source": [
    "# Create a new file and import the necessary libraries for making an HTTP request."
   ]
  },
  {
   "cell_type": "code",
   "execution_count": 1,
   "metadata": {},
   "outputs": [
    {
     "name": "stdout",
     "output_type": "stream",
     "text": [
      "Requirement already satisfied: assemblyai in c:\\users\\lenovo\\anaconda3\\lib\\site-packages (0.19.0)\n",
      "Collecting assemblyai\n",
      "  Downloading assemblyai-0.20.0-py3-none-any.whl.metadata (24 kB)\n",
      "Requirement already satisfied: httpx>=0.19.0 in c:\\users\\lenovo\\anaconda3\\lib\\site-packages (from assemblyai) (0.25.1)\n",
      "Requirement already satisfied: pydantic!=1.10.7,>=1.7.0 in c:\\users\\lenovo\\anaconda3\\lib\\site-packages (from assemblyai) (1.10.13)\n",
      "Requirement already satisfied: typing-extensions>=3.7 in c:\\users\\lenovo\\anaconda3\\lib\\site-packages (from assemblyai) (4.8.0)\n",
      "Requirement already satisfied: websockets>=11.0 in c:\\users\\lenovo\\anaconda3\\lib\\site-packages (from assemblyai) (11.0.3)\n",
      "Requirement already satisfied: anyio in c:\\users\\lenovo\\anaconda3\\lib\\site-packages (from httpx>=0.19.0->assemblyai) (3.7.1)\n",
      "Requirement already satisfied: certifi in c:\\users\\lenovo\\anaconda3\\lib\\site-packages (from httpx>=0.19.0->assemblyai) (2023.5.7)\n",
      "Requirement already satisfied: httpcore in c:\\users\\lenovo\\anaconda3\\lib\\site-packages (from httpx>=0.19.0->assemblyai) (1.0.2)\n",
      "Requirement already satisfied: idna in c:\\users\\lenovo\\anaconda3\\lib\\site-packages (from httpx>=0.19.0->assemblyai) (3.3)\n",
      "Requirement already satisfied: sniffio in c:\\users\\lenovo\\anaconda3\\lib\\site-packages (from httpx>=0.19.0->assemblyai) (1.2.0)\n",
      "Requirement already satisfied: exceptiongroup in c:\\users\\lenovo\\anaconda3\\lib\\site-packages (from anyio->httpx>=0.19.0->assemblyai) (1.1.3)\n",
      "Requirement already satisfied: h11<0.15,>=0.13 in c:\\users\\lenovo\\anaconda3\\lib\\site-packages (from httpcore->httpx>=0.19.0->assemblyai) (0.14.0)\n",
      "Downloading assemblyai-0.20.0-py3-none-any.whl (63 kB)\n",
      "   ---------------------------------------- 0.0/63.3 kB ? eta -:--:--\n",
      "   ------------------------- -------------- 41.0/63.3 kB 960.0 kB/s eta 0:00:01\n",
      "   ---------------------------------------- 63.3/63.3 kB 680.1 kB/s eta 0:00:00\n",
      "Installing collected packages: assemblyai\n",
      "  Attempting uninstall: assemblyai\n",
      "    Found existing installation: assemblyai 0.19.0\n",
      "    Uninstalling assemblyai-0.19.0:\n",
      "      Successfully uninstalled assemblyai-0.19.0\n",
      "Successfully installed assemblyai-0.20.0\n"
     ]
    },
    {
     "name": "stderr",
     "output_type": "stream",
     "text": [
      "WARNING: Ignoring invalid distribution -ffi (c:\\users\\lenovo\\anaconda3\\lib\\site-packages)\n",
      "WARNING: Ignoring invalid distribution -rotobuf (c:\\users\\lenovo\\anaconda3\\lib\\site-packages)\n",
      "WARNING: Ignoring invalid distribution -ffi (c:\\users\\lenovo\\anaconda3\\lib\\site-packages)\n",
      "WARNING: Ignoring invalid distribution -rotobuf (c:\\users\\lenovo\\anaconda3\\lib\\site-packages)\n"
     ]
    }
   ],
   "source": [
    "!pip install -U assemblyai"
   ]
  },
  {
   "cell_type": "code",
   "execution_count": 7,
   "metadata": {},
   "outputs": [],
   "source": [
    "import assemblyai as aai\n",
    "\n",
    "aai.settings.api_key = f\"6f7086a0ef82489980b841fc5c397d69\" "
   ]
  },
  {
   "cell_type": "markdown",
   "metadata": {},
   "source": [
    "# Upload your local file to the AssemblyAI API."
   ]
  },
  {
   "cell_type": "code",
   "execution_count": 8,
   "metadata": {},
   "outputs": [],
   "source": [
    "transcriber = aai.Transcriber()"
   ]
  },
  {
   "cell_type": "markdown",
   "metadata": {},
   "source": [
    "# Use the upload_url returned by the AssemblyAI API to create a JSON payload containing the audio_url parameter.\n",
    "\n",
    "We delete uploaded files from our servers either after the transcription has completed, or 24 hours after you uploaded the file. After the file has been deleted, the corresponding upload_url is no longer valid."
   ]
  },
  {
   "cell_type": "code",
   "execution_count": 24,
   "metadata": {},
   "outputs": [
    {
     "ename": "PermissionError",
     "evalue": "[Errno 13] Permission denied: './my_audio.mp3/'",
     "output_type": "error",
     "traceback": [
      "\u001b[1;31m---------------------------------------------------------------------------\u001b[0m",
      "\u001b[1;31mPermissionError\u001b[0m                           Traceback (most recent call last)",
      "\u001b[1;32md:\\Chat__With_Audio_Using_LLM\\transcription.ipynb Cell 7\u001b[0m line \u001b[0;36m1\n\u001b[1;32m----> <a href='vscode-notebook-cell:/d%3A/Chat__With_Audio_Using_LLM/transcription.ipynb#X10sZmlsZQ%3D%3D?line=0'>1</a>\u001b[0m transcript \u001b[39m=\u001b[39m transcriber\u001b[39m.\u001b[39;49mtranscribe(\u001b[39m\"\u001b[39;49m\u001b[39m./my_audio.mp3/\u001b[39;49m\u001b[39m\"\u001b[39;49m)\n",
      "File \u001b[1;32mc:\\Users\\Lenovo\\anaconda3\\lib\\site-packages\\assemblyai\\transcriber.py:903\u001b[0m, in \u001b[0;36mTranscriber.transcribe\u001b[1;34m(self, data, config)\u001b[0m\n\u001b[0;32m    889\u001b[0m \u001b[39mdef\u001b[39;00m \u001b[39mtranscribe\u001b[39m(\n\u001b[0;32m    890\u001b[0m     \u001b[39mself\u001b[39m,\n\u001b[0;32m    891\u001b[0m     data: \u001b[39mstr\u001b[39m,\n\u001b[0;32m    892\u001b[0m     config: Optional[types\u001b[39m.\u001b[39mTranscriptionConfig] \u001b[39m=\u001b[39m \u001b[39mNone\u001b[39;00m,\n\u001b[0;32m    893\u001b[0m ) \u001b[39m-\u001b[39m\u001b[39m>\u001b[39m Transcript:\n\u001b[0;32m    894\u001b[0m \u001b[39m    \u001b[39m\u001b[39m\"\"\"\u001b[39;00m\n\u001b[0;32m    895\u001b[0m \u001b[39m    Transcribes an audio file whose location can be specified via a URL or file path.\u001b[39;00m\n\u001b[0;32m    896\u001b[0m \n\u001b[1;32m   (...)\u001b[0m\n\u001b[0;32m    900\u001b[0m \u001b[39m            default configuration will be used.\u001b[39;00m\n\u001b[0;32m    901\u001b[0m \u001b[39m    \"\"\"\u001b[39;00m\n\u001b[1;32m--> 903\u001b[0m     \u001b[39mreturn\u001b[39;00m \u001b[39mself\u001b[39;49m\u001b[39m.\u001b[39;49m_impl\u001b[39m.\u001b[39;49mtranscribe(\n\u001b[0;32m    904\u001b[0m         data\u001b[39m=\u001b[39;49mdata,\n\u001b[0;32m    905\u001b[0m         config\u001b[39m=\u001b[39;49mconfig,\n\u001b[0;32m    906\u001b[0m         poll\u001b[39m=\u001b[39;49m\u001b[39mTrue\u001b[39;49;00m,\n\u001b[0;32m    907\u001b[0m     )\n",
      "File \u001b[1;32mc:\\Users\\Lenovo\\anaconda3\\lib\\site-packages\\assemblyai\\transcriber.py:740\u001b[0m, in \u001b[0;36m_TranscriberImpl.transcribe\u001b[1;34m(self, data, config, poll)\u001b[0m\n\u001b[0;32m    733\u001b[0m \u001b[39mif\u001b[39;00m urlparse(data)\u001b[39m.\u001b[39mscheme \u001b[39min\u001b[39;00m {\u001b[39m\"\u001b[39m\u001b[39mhttp\u001b[39m\u001b[39m\"\u001b[39m, \u001b[39m\"\u001b[39m\u001b[39mhttps\u001b[39m\u001b[39m\"\u001b[39m}:\n\u001b[0;32m    734\u001b[0m     \u001b[39mreturn\u001b[39;00m \u001b[39mself\u001b[39m\u001b[39m.\u001b[39mtranscribe_url(\n\u001b[0;32m    735\u001b[0m         url\u001b[39m=\u001b[39mdata,\n\u001b[0;32m    736\u001b[0m         config\u001b[39m=\u001b[39mconfig,\n\u001b[0;32m    737\u001b[0m         poll\u001b[39m=\u001b[39mpoll,\n\u001b[0;32m    738\u001b[0m     )\n\u001b[1;32m--> 740\u001b[0m \u001b[39mreturn\u001b[39;00m \u001b[39mself\u001b[39;49m\u001b[39m.\u001b[39;49mtranscribe_file(\n\u001b[0;32m    741\u001b[0m     path\u001b[39m=\u001b[39;49mdata,\n\u001b[0;32m    742\u001b[0m     config\u001b[39m=\u001b[39;49mconfig,\n\u001b[0;32m    743\u001b[0m     poll\u001b[39m=\u001b[39;49mpoll,\n\u001b[0;32m    744\u001b[0m )\n",
      "File \u001b[1;32mc:\\Users\\Lenovo\\anaconda3\\lib\\site-packages\\assemblyai\\transcriber.py:701\u001b[0m, in \u001b[0;36m_TranscriberImpl.transcribe_file\u001b[1;34m(self, path, config, poll)\u001b[0m\n\u001b[0;32m    694\u001b[0m \u001b[39mdef\u001b[39;00m \u001b[39mtranscribe_file\u001b[39m(\n\u001b[0;32m    695\u001b[0m     \u001b[39mself\u001b[39m,\n\u001b[0;32m    696\u001b[0m     \u001b[39m*\u001b[39m,\n\u001b[1;32m   (...)\u001b[0m\n\u001b[0;32m    699\u001b[0m     poll: \u001b[39mbool\u001b[39m,\n\u001b[0;32m    700\u001b[0m ) \u001b[39m-\u001b[39m\u001b[39m>\u001b[39m Transcript:\n\u001b[1;32m--> 701\u001b[0m     \u001b[39mwith\u001b[39;00m \u001b[39mopen\u001b[39;49m(path, \u001b[39m\"\u001b[39;49m\u001b[39mrb\u001b[39;49m\u001b[39m\"\u001b[39;49m) \u001b[39mas\u001b[39;00m audio_file:\n\u001b[0;32m    702\u001b[0m         \u001b[39mtry\u001b[39;00m:\n\u001b[0;32m    703\u001b[0m             audio_url \u001b[39m=\u001b[39m api\u001b[39m.\u001b[39mupload_file(\n\u001b[0;32m    704\u001b[0m                 client\u001b[39m=\u001b[39m\u001b[39mself\u001b[39m\u001b[39m.\u001b[39m_client\u001b[39m.\u001b[39mhttp_client,\n\u001b[0;32m    705\u001b[0m                 audio_file\u001b[39m=\u001b[39maudio_file,\n\u001b[0;32m    706\u001b[0m             )\n",
      "\u001b[1;31mPermissionError\u001b[0m: [Errno 13] Permission denied: './my_audio.mp3/'"
     ]
    }
   ],
   "source": [
    "transcript = transcriber.transcribe(\"./my_audio.mp3/\")"
   ]
  },
  {
   "cell_type": "markdown",
   "metadata": {},
   "source": [
    "# Make a POST request to the AssemblyAI API endpoint with the payload and headers."
   ]
  },
  {
   "cell_type": "markdown",
   "metadata": {},
   "source": [
    "After making the request, you'll receive an ID for the transcription. Use it to poll the API every few seconds to check the status of the transcript job. Once the status is completed, you can retrieve the transcript from the API response."
   ]
  },
  {
   "cell_type": "code",
   "execution_count": 25,
   "metadata": {},
   "outputs": [],
   "source": [
    "transcript = transcriber.transcribe(\"https://example.org/audio.mp3\")"
   ]
  },
  {
   "cell_type": "markdown",
   "metadata": {},
   "source": [
    "# After making the request, you'll receive an ID for the transcription. Use it to poll the API every few seconds to check the status of the transcript job. Once the status is completed, you can retrieve the transcript from the API response."
   ]
  },
  {
   "cell_type": "code",
   "execution_count": 26,
   "metadata": {},
   "outputs": [
    {
     "name": "stdout",
     "output_type": "stream",
     "text": [
      "<assemblyai.transcriber.Transcript object at 0x000001C16DB82310>\n"
     ]
    }
   ],
   "source": [
    "print(transcript)"
   ]
  },
  {
   "cell_type": "code",
   "execution_count": 27,
   "metadata": {},
   "outputs": [],
   "source": [
    "transcript.text\n"
   ]
  },
  {
   "cell_type": "code",
   "execution_count": null,
   "metadata": {},
   "outputs": [],
   "source": []
  }
 ],
 "metadata": {
  "kernelspec": {
   "display_name": "venv",
   "language": "python",
   "name": "python3"
  },
  "language_info": {
   "codemirror_mode": {
    "name": "ipython",
    "version": 3
   },
   "file_extension": ".py",
   "mimetype": "text/x-python",
   "name": "python",
   "nbconvert_exporter": "python",
   "pygments_lexer": "ipython3",
   "version": "3.9.12"
  }
 },
 "nbformat": 4,
 "nbformat_minor": 2
}
